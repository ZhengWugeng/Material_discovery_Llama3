{
 "cells": [
  {
   "cell_type": "code",
   "execution_count": 1,
   "id": "a6130e94-b517-4d7f-a514-1f50796e833b",
   "metadata": {},
   "outputs": [],
   "source": [
    "import torch\n",
    "import os\n",
    "import numpy as np\n",
    "import pandas as pd\n",
    "from transformers import AutoTokenizer, AutoModelForCausalLM, TrainingArguments\n",
    "from datasets import load_dataset\n",
    "from peft import LoraConfig, get_peft_model, PeftModel\n",
    "from trl import SFTTrainer"
   ]
  },
  {
   "cell_type": "code",
   "execution_count": 2,
   "id": "d5b9fbcf-bda7-4523-b012-44f1ae8e7ac5",
   "metadata": {},
   "outputs": [],
   "source": [
    "# os.environ['CUDA_VISIBLE_DEVICES'] = \"0,1,2,3\""
   ]
  },
  {
   "cell_type": "code",
   "execution_count": 3,
   "id": "7c3242fa-4c3d-4507-bd18-c50262ad7568",
   "metadata": {},
   "outputs": [
    {
     "data": {
      "text/html": [
       "<div>\n",
       "<style scoped>\n",
       "    .dataframe tbody tr th:only-of-type {\n",
       "        vertical-align: middle;\n",
       "    }\n",
       "\n",
       "    .dataframe tbody tr th {\n",
       "        vertical-align: top;\n",
       "    }\n",
       "\n",
       "    .dataframe thead th {\n",
       "        text-align: right;\n",
       "    }\n",
       "</style>\n",
       "<table border=\"1\" class=\"dataframe\">\n",
       "  <thead>\n",
       "    <tr style=\"text-align: right;\">\n",
       "      <th></th>\n",
       "      <th>material_name</th>\n",
       "      <th>gilbert_damping_constant</th>\n",
       "      <th>text</th>\n",
       "    </tr>\n",
       "  </thead>\n",
       "  <tbody>\n",
       "    <tr>\n",
       "      <th>0</th>\n",
       "      <td>MnSi</td>\n",
       "      <td>0.000010</td>\n",
       "      <td>The gilbert damping constant of MnSi is 1e-05</td>\n",
       "    </tr>\n",
       "    <tr>\n",
       "      <th>1</th>\n",
       "      <td>Insulating ferromagnets</td>\n",
       "      <td>0.000010</td>\n",
       "      <td>The gilbert damping constant of Insulating fer...</td>\n",
       "    </tr>\n",
       "    <tr>\n",
       "      <th>2</th>\n",
       "      <td>NiMnSb</td>\n",
       "      <td>0.000010</td>\n",
       "      <td>The gilbert damping constant of NiMnSb is 1e-05</td>\n",
       "    </tr>\n",
       "    <tr>\n",
       "      <th>3</th>\n",
       "      <td>BYIG</td>\n",
       "      <td>0.000014</td>\n",
       "      <td>The gilbert damping constant of BYIG is 1.4e-05</td>\n",
       "    </tr>\n",
       "    <tr>\n",
       "      <th>4</th>\n",
       "      <td>V[TCNE]2</td>\n",
       "      <td>0.000038</td>\n",
       "      <td>The gilbert damping constant of V[TCNE]2 is 3....</td>\n",
       "    </tr>\n",
       "    <tr>\n",
       "      <th>...</th>\n",
       "      <td>...</td>\n",
       "      <td>...</td>\n",
       "      <td>...</td>\n",
       "    </tr>\n",
       "    <tr>\n",
       "      <th>286</th>\n",
       "      <td>BiCaSi-YIG</td>\n",
       "      <td>2.631023</td>\n",
       "      <td>The gilbert damping constant of BiCaSi-YIG is ...</td>\n",
       "    </tr>\n",
       "    <tr>\n",
       "      <th>287</th>\n",
       "      <td>GdGa-YIG</td>\n",
       "      <td>3.531022</td>\n",
       "      <td>The gilbert damping constant of GdGa-YIG is 3....</td>\n",
       "    </tr>\n",
       "    <tr>\n",
       "      <th>288</th>\n",
       "      <td>Y3Fe4GaO12</td>\n",
       "      <td>51.000000</td>\n",
       "      <td>The gilbert damping constant of Y3Fe4GaO12 is ...</td>\n",
       "    </tr>\n",
       "    <tr>\n",
       "      <th>289</th>\n",
       "      <td>NiFe2O4</td>\n",
       "      <td>710.000000</td>\n",
       "      <td>The gilbert damping constant of NiFe2O4 is 710.0</td>\n",
       "    </tr>\n",
       "    <tr>\n",
       "      <th>290</th>\n",
       "      <td>MnFe2O4</td>\n",
       "      <td>930.000000</td>\n",
       "      <td>The gilbert damping constant of MnFe2O4 is 930.0</td>\n",
       "    </tr>\n",
       "  </tbody>\n",
       "</table>\n",
       "<p>291 rows × 3 columns</p>\n",
       "</div>"
      ],
      "text/plain": [
       "               material_name  gilbert_damping_constant  \\\n",
       "0                       MnSi                  0.000010   \n",
       "1    Insulating ferromagnets                  0.000010   \n",
       "2                     NiMnSb                  0.000010   \n",
       "3                       BYIG                  0.000014   \n",
       "4                   V[TCNE]2                  0.000038   \n",
       "..                       ...                       ...   \n",
       "286               BiCaSi-YIG                  2.631023   \n",
       "287                 GdGa-YIG                  3.531022   \n",
       "288               Y3Fe4GaO12                 51.000000   \n",
       "289                  NiFe2O4                710.000000   \n",
       "290                  MnFe2O4                930.000000   \n",
       "\n",
       "                                                  text  \n",
       "0        The gilbert damping constant of MnSi is 1e-05  \n",
       "1    The gilbert damping constant of Insulating fer...  \n",
       "2      The gilbert damping constant of NiMnSb is 1e-05  \n",
       "3      The gilbert damping constant of BYIG is 1.4e-05  \n",
       "4    The gilbert damping constant of V[TCNE]2 is 3....  \n",
       "..                                                 ...  \n",
       "286  The gilbert damping constant of BiCaSi-YIG is ...  \n",
       "287  The gilbert damping constant of GdGa-YIG is 3....  \n",
       "288  The gilbert damping constant of Y3Fe4GaO12 is ...  \n",
       "289   The gilbert damping constant of NiFe2O4 is 710.0  \n",
       "290   The gilbert damping constant of MnFe2O4 is 930.0  \n",
       "\n",
       "[291 rows x 3 columns]"
      ]
     },
     "execution_count": 3,
     "metadata": {},
     "output_type": "execute_result"
    }
   ],
   "source": [
    "gilbert = pd.read_excel('gilbert_values.xlsx')\n",
    "gilbert['text'] = 'The gilbert damping constant of ' + gilbert['material_name'] + ' is '+ gilbert['gilbert_damping_constant'].apply(lambda x: str(x))\n",
    "gilbert"
   ]
  },
  {
   "cell_type": "code",
   "execution_count": 4,
   "id": "e60dc6e5-4958-4059-b9a8-96869f070d01",
   "metadata": {},
   "outputs": [
    {
     "data": {
      "text/html": [
       "<div>\n",
       "<style scoped>\n",
       "    .dataframe tbody tr th:only-of-type {\n",
       "        vertical-align: middle;\n",
       "    }\n",
       "\n",
       "    .dataframe tbody tr th {\n",
       "        vertical-align: top;\n",
       "    }\n",
       "\n",
       "    .dataframe thead th {\n",
       "        text-align: right;\n",
       "    }\n",
       "</style>\n",
       "<table border=\"1\" class=\"dataframe\">\n",
       "  <thead>\n",
       "    <tr style=\"text-align: right;\">\n",
       "      <th></th>\n",
       "      <th>Material_New</th>\n",
       "      <th>Value</th>\n",
       "      <th>text</th>\n",
       "    </tr>\n",
       "  </thead>\n",
       "  <tbody>\n",
       "    <tr>\n",
       "      <th>0</th>\n",
       "      <td>ZnO-V2O5</td>\n",
       "      <td>1.190000e+04</td>\n",
       "      <td>The resistivity of ZnO-V2O5 is 11900.0Ohm.m</td>\n",
       "    </tr>\n",
       "    <tr>\n",
       "      <th>1</th>\n",
       "      <td>BiFe0.75Ti0.25O3</td>\n",
       "      <td>5.500000e+08</td>\n",
       "      <td>The resistivity of BiFe0.75Ti0.25O3 is 5500000...</td>\n",
       "    </tr>\n",
       "    <tr>\n",
       "      <th>2</th>\n",
       "      <td>P(VDF-TrFE)</td>\n",
       "      <td>1.000000e+01</td>\n",
       "      <td>The resistivity of P(VDF-TrFE) is 10.0Ohm.m</td>\n",
       "    </tr>\n",
       "    <tr>\n",
       "      <th>3</th>\n",
       "      <td>Ni1−xZnxFe2O4</td>\n",
       "      <td>1.000000e+11</td>\n",
       "      <td>The resistivity of Ni1−xZnxFe2O4 is 1000000000...</td>\n",
       "    </tr>\n",
       "    <tr>\n",
       "      <th>4</th>\n",
       "      <td>NiO</td>\n",
       "      <td>1.000000e+11</td>\n",
       "      <td>The resistivity of NiO is 100000000000.0Ohm.m</td>\n",
       "    </tr>\n",
       "    <tr>\n",
       "      <th>...</th>\n",
       "      <td>...</td>\n",
       "      <td>...</td>\n",
       "      <td>...</td>\n",
       "    </tr>\n",
       "    <tr>\n",
       "      <th>801</th>\n",
       "      <td>Copper-Nickel (Cu-2%Ni) clad</td>\n",
       "      <td>1.350000e-08</td>\n",
       "      <td>The resistivity of Copper-Nickel (Cu-2%Ni) cla...</td>\n",
       "    </tr>\n",
       "    <tr>\n",
       "      <th>802</th>\n",
       "      <td>Co1-xFe0.4Ni0.6Si0.4B0.6</td>\n",
       "      <td>1.200000e-08</td>\n",
       "      <td>The resistivity of Co1-xFe0.4Ni0.6Si0.4B0.6 is...</td>\n",
       "    </tr>\n",
       "    <tr>\n",
       "      <th>803</th>\n",
       "      <td>Au/Pt/Ti/Ni</td>\n",
       "      <td>1.100000e-08</td>\n",
       "      <td>The resistivity of Au/Pt/Ti/Ni is 1.1e-08Ohm.m</td>\n",
       "    </tr>\n",
       "    <tr>\n",
       "      <th>804</th>\n",
       "      <td>Fe-Si</td>\n",
       "      <td>7.300000e+01</td>\n",
       "      <td>The resistivity of Fe-Si is 73.0Ohm.m</td>\n",
       "    </tr>\n",
       "    <tr>\n",
       "      <th>805</th>\n",
       "      <td>Ni-Zn ferrite</td>\n",
       "      <td>1.000000e-08</td>\n",
       "      <td>The resistivity of Ni-Zn ferrite is 1e-08Ohm.m</td>\n",
       "    </tr>\n",
       "  </tbody>\n",
       "</table>\n",
       "<p>806 rows × 3 columns</p>\n",
       "</div>"
      ],
      "text/plain": [
       "                     Material_New         Value  \\\n",
       "0                        ZnO-V2O5  1.190000e+04   \n",
       "1                BiFe0.75Ti0.25O3  5.500000e+08   \n",
       "2                     P(VDF-TrFE)  1.000000e+01   \n",
       "3                   Ni1−xZnxFe2O4  1.000000e+11   \n",
       "4                             NiO  1.000000e+11   \n",
       "..                            ...           ...   \n",
       "801  Copper-Nickel (Cu-2%Ni) clad  1.350000e-08   \n",
       "802      Co1-xFe0.4Ni0.6Si0.4B0.6  1.200000e-08   \n",
       "803                   Au/Pt/Ti/Ni  1.100000e-08   \n",
       "804                         Fe-Si  7.300000e+01   \n",
       "805                 Ni-Zn ferrite  1.000000e-08   \n",
       "\n",
       "                                                  text  \n",
       "0          The resistivity of ZnO-V2O5 is 11900.0Ohm.m  \n",
       "1    The resistivity of BiFe0.75Ti0.25O3 is 5500000...  \n",
       "2          The resistivity of P(VDF-TrFE) is 10.0Ohm.m  \n",
       "3    The resistivity of Ni1−xZnxFe2O4 is 1000000000...  \n",
       "4        The resistivity of NiO is 100000000000.0Ohm.m  \n",
       "..                                                 ...  \n",
       "801  The resistivity of Copper-Nickel (Cu-2%Ni) cla...  \n",
       "802  The resistivity of Co1-xFe0.4Ni0.6Si0.4B0.6 is...  \n",
       "803     The resistivity of Au/Pt/Ti/Ni is 1.1e-08Ohm.m  \n",
       "804              The resistivity of Fe-Si is 73.0Ohm.m  \n",
       "805     The resistivity of Ni-Zn ferrite is 1e-08Ohm.m  \n",
       "\n",
       "[806 rows x 3 columns]"
      ]
     },
     "execution_count": 4,
     "metadata": {},
     "output_type": "execute_result"
    }
   ],
   "source": [
    "resistivity = pd.read_excel('Resistivity_Mag_Drop_duplicates.xlsx')\n",
    "resistivity['text'] = 'The resistivity of ' + resistivity['Material_New'] + ' is '+ resistivity['Value'].apply(lambda x: str(x)) + 'Ohm.m'\n",
    "resistivity"
   ]
  },
  {
   "cell_type": "code",
   "execution_count": 5,
   "id": "4c7312ce-9932-4eed-ae73-c2adfdd5132e",
   "metadata": {},
   "outputs": [
    {
     "data": {
      "text/html": [
       "<div>\n",
       "<style scoped>\n",
       "    .dataframe tbody tr th:only-of-type {\n",
       "        vertical-align: middle;\n",
       "    }\n",
       "\n",
       "    .dataframe tbody tr th {\n",
       "        vertical-align: top;\n",
       "    }\n",
       "\n",
       "    .dataframe thead th {\n",
       "        text-align: right;\n",
       "    }\n",
       "</style>\n",
       "<table border=\"1\" class=\"dataframe\">\n",
       "  <thead>\n",
       "    <tr style=\"text-align: right;\">\n",
       "      <th></th>\n",
       "      <th>text</th>\n",
       "    </tr>\n",
       "  </thead>\n",
       "  <tbody>\n",
       "    <tr>\n",
       "      <th>0</th>\n",
       "      <td>The resistivity of ZnO-V2O5 is 11900.0Ohm.m</td>\n",
       "    </tr>\n",
       "    <tr>\n",
       "      <th>1</th>\n",
       "      <td>The resistivity of BiFe0.75Ti0.25O3 is 5500000...</td>\n",
       "    </tr>\n",
       "    <tr>\n",
       "      <th>2</th>\n",
       "      <td>The resistivity of P(VDF-TrFE) is 10.0Ohm.m</td>\n",
       "    </tr>\n",
       "    <tr>\n",
       "      <th>3</th>\n",
       "      <td>The resistivity of Ni1−xZnxFe2O4 is 1000000000...</td>\n",
       "    </tr>\n",
       "    <tr>\n",
       "      <th>4</th>\n",
       "      <td>The resistivity of NiO is 100000000000.0Ohm.m</td>\n",
       "    </tr>\n",
       "    <tr>\n",
       "      <th>...</th>\n",
       "      <td>...</td>\n",
       "    </tr>\n",
       "    <tr>\n",
       "      <th>286</th>\n",
       "      <td>The gilbert damping constant of BiCaSi-YIG is ...</td>\n",
       "    </tr>\n",
       "    <tr>\n",
       "      <th>287</th>\n",
       "      <td>The gilbert damping constant of GdGa-YIG is 3....</td>\n",
       "    </tr>\n",
       "    <tr>\n",
       "      <th>288</th>\n",
       "      <td>The gilbert damping constant of Y3Fe4GaO12 is ...</td>\n",
       "    </tr>\n",
       "    <tr>\n",
       "      <th>289</th>\n",
       "      <td>The gilbert damping constant of NiFe2O4 is 710.0</td>\n",
       "    </tr>\n",
       "    <tr>\n",
       "      <th>290</th>\n",
       "      <td>The gilbert damping constant of MnFe2O4 is 930.0</td>\n",
       "    </tr>\n",
       "  </tbody>\n",
       "</table>\n",
       "<p>1097 rows × 1 columns</p>\n",
       "</div>"
      ],
      "text/plain": [
       "                                                  text\n",
       "0          The resistivity of ZnO-V2O5 is 11900.0Ohm.m\n",
       "1    The resistivity of BiFe0.75Ti0.25O3 is 5500000...\n",
       "2          The resistivity of P(VDF-TrFE) is 10.0Ohm.m\n",
       "3    The resistivity of Ni1−xZnxFe2O4 is 1000000000...\n",
       "4        The resistivity of NiO is 100000000000.0Ohm.m\n",
       "..                                                 ...\n",
       "286  The gilbert damping constant of BiCaSi-YIG is ...\n",
       "287  The gilbert damping constant of GdGa-YIG is 3....\n",
       "288  The gilbert damping constant of Y3Fe4GaO12 is ...\n",
       "289   The gilbert damping constant of NiFe2O4 is 710.0\n",
       "290   The gilbert damping constant of MnFe2O4 is 930.0\n",
       "\n",
       "[1097 rows x 1 columns]"
      ]
     },
     "execution_count": 5,
     "metadata": {},
     "output_type": "execute_result"
    }
   ],
   "source": [
    "dataset = pd.DataFrame(columns = ['text'])\n",
    "dataset = pd.concat([dataset,resistivity['text']])\n",
    "dataset = pd.concat([dataset,gilbert['text']])\n",
    "dataset"
   ]
  },
  {
   "cell_type": "code",
   "execution_count": 6,
   "id": "cd897ab0-6ab8-47aa-8c6d-c62e5f94da92",
   "metadata": {},
   "outputs": [],
   "source": [
    "# dataset.to_csv('value.csv',index = False)"
   ]
  },
  {
   "cell_type": "code",
   "execution_count": 7,
   "id": "4a8a7937-ca85-4de4-a4b1-049bfc6520de",
   "metadata": {},
   "outputs": [],
   "source": [
    "dataset = load_dataset(\"ZWG817/Materials_Prompt\")"
   ]
  },
  {
   "cell_type": "code",
   "execution_count": 8,
   "id": "ed85a207-dad7-4243-9bba-b91e20001dcb",
   "metadata": {},
   "outputs": [],
   "source": [
    "from sentence_transformers import SentenceTransformer\n",
    "ST = SentenceTransformer(\"mixedbread-ai/mxbai-embed-large-v1\")"
   ]
  },
  {
   "cell_type": "code",
   "execution_count": 9,
   "id": "56bae1ee-1c7c-4d4e-9a46-26323d15627c",
   "metadata": {},
   "outputs": [],
   "source": [
    "def embed(batch):\n",
    "    \"\"\"\n",
    "    adds a column to the dataset called 'embeddings'\n",
    "    \"\"\"\n",
    "    # or you can combine multiple columns here\n",
    "    # For example the title and the text\n",
    "    information = batch[\"text\"]\n",
    "    return {\"embeddings\" : ST.encode(information)}\n",
    "\n",
    "dataset = dataset.map(embed,batched=True,batch_size=16)\n"
   ]
  },
  {
   "cell_type": "code",
   "execution_count": 10,
   "id": "478dfe82-47b1-4d5d-8c07-4e127c7f0614",
   "metadata": {},
   "outputs": [
    {
     "data": {
      "application/vnd.jupyter.widget-view+json": {
       "model_id": "5226782736ca4bd394761feb87652be4",
       "version_major": 2,
       "version_minor": 0
      },
      "text/plain": [
       "  0%|          | 0/2 [00:00<?, ?it/s]"
      ]
     },
     "metadata": {},
     "output_type": "display_data"
    }
   ],
   "source": [
    "data = dataset[\"train\"]\n",
    "data = data.add_faiss_index(\"embeddings\")"
   ]
  },
  {
   "cell_type": "code",
   "execution_count": 11,
   "id": "ca988fbd-f75a-40f9-bf26-b28baebb49d7",
   "metadata": {},
   "outputs": [],
   "source": [
    "def search(query: str, k: int = 3 ):\n",
    "    \"\"\"a function that embeds a new query and returns the most probable results\"\"\"\n",
    "    embedded_query = ST.encode(query) # embed new query\n",
    "    scores, retrieved_examples = data.get_nearest_examples( # retrieve results\n",
    "        \"embeddings\", embedded_query, # compare our new embedded query with the dataset embeddings\n",
    "        k=k # get only top k results\n",
    "    )\n",
    "    return scores, retrieved_examples"
   ]
  },
  {
   "cell_type": "code",
   "execution_count": 12,
   "id": "68a87f2f-e9a5-41e5-ac2b-a10a469ba62f",
   "metadata": {},
   "outputs": [
    {
     "data": {
      "text/plain": [
       "['The gilbert damping constant of YIG is 7.35e-05',\n",
       " 'The gilbert damping constant of YIG YIG is 0.008',\n",
       " 'The gilbert damping constant of YIG YIG with 6% Os is 0.092',\n",
       " 'The gilbert damping constant of Ga, Sc - YIG is 5.1e-05']"
      ]
     },
     "execution_count": 12,
     "metadata": {},
     "output_type": "execute_result"
    }
   ],
   "source": [
    "scores , result = search(\"yig\", 4 ) \n",
    "result['text']"
   ]
  },
  {
   "cell_type": "code",
   "execution_count": 13,
   "id": "db772ea1-7c1c-419d-9341-2430b5450aa8",
   "metadata": {},
   "outputs": [],
   "source": [
    "def load_model(model_name):\n",
    "    tokenizer = AutoTokenizer.from_pretrained(model_name)\n",
    "    model = AutoModelForCausalLM.from_pretrained(\n",
    "        model_name,\n",
    "        torch_dtype=torch.bfloat16,\n",
    "        device_map=\"auto\",\n",
    "    )\n",
    "    model = model.bfloat16()\n",
    "    return model, tokenizer"
   ]
  },
  {
   "cell_type": "code",
   "execution_count": 14,
   "id": "13e2dff1-9df3-47d6-ba98-d4fa8e164b0f",
   "metadata": {},
   "outputs": [
    {
     "data": {
      "application/vnd.jupyter.widget-view+json": {
       "model_id": "e8f589a6ecbe40c9b74c7bafe8404af1",
       "version_major": 2,
       "version_minor": 0
      },
      "text/plain": [
       "Loading checkpoint shards:   0%|          | 0/4 [00:00<?, ?it/s]"
      ]
     },
     "metadata": {},
     "output_type": "display_data"
    }
   ],
   "source": [
    "# model_name = 'nvidia/Llama-3.1-Nemotron-70B-Instruct-HF'\n",
    "model_name = 'meta-llama/Llama-3.1-8B-Instruct'\n",
    "model, tokenizer = load_model(model_name)"
   ]
  },
  {
   "cell_type": "code",
   "execution_count": 15,
   "id": "58579c63-0790-427e-8939-e7399d899044",
   "metadata": {},
   "outputs": [
    {
     "name": "stdout",
     "output_type": "stream",
     "text": [
      "LlamaForCausalLM(\n",
      "  (model): LlamaModel(\n",
      "    (embed_tokens): Embedding(128256, 4096)\n",
      "    (layers): ModuleList(\n",
      "      (0-31): 32 x LlamaDecoderLayer(\n",
      "        (self_attn): LlamaSdpaAttention(\n",
      "          (q_proj): Linear(in_features=4096, out_features=4096, bias=False)\n",
      "          (k_proj): Linear(in_features=4096, out_features=1024, bias=False)\n",
      "          (v_proj): Linear(in_features=4096, out_features=1024, bias=False)\n",
      "          (o_proj): Linear(in_features=4096, out_features=4096, bias=False)\n",
      "          (rotary_emb): LlamaRotaryEmbedding()\n",
      "        )\n",
      "        (mlp): LlamaMLP(\n",
      "          (gate_proj): Linear(in_features=4096, out_features=14336, bias=False)\n",
      "          (up_proj): Linear(in_features=4096, out_features=14336, bias=False)\n",
      "          (down_proj): Linear(in_features=14336, out_features=4096, bias=False)\n",
      "          (act_fn): SiLU()\n",
      "        )\n",
      "        (input_layernorm): LlamaRMSNorm((4096,), eps=1e-05)\n",
      "        (post_attention_layernorm): LlamaRMSNorm((4096,), eps=1e-05)\n",
      "      )\n",
      "    )\n",
      "    (norm): LlamaRMSNorm((4096,), eps=1e-05)\n",
      "    (rotary_emb): LlamaRotaryEmbedding()\n",
      "  )\n",
      "  (lm_head): Linear(in_features=4096, out_features=128256, bias=False)\n",
      ")\n"
     ]
    }
   ],
   "source": [
    "print(model)"
   ]
  },
  {
   "cell_type": "code",
   "execution_count": 20,
   "id": "0df622a5-3334-4075-b9c4-9b92ec539691",
   "metadata": {},
   "outputs": [],
   "source": [
    "def format_prompt(prompt,retrieved_documents,k):\n",
    "  \"\"\"using the retrieved documents we will prompt the model to generate our responses\"\"\"\n",
    "  PROMPT = f\"Question:{prompt}\\nContext:\"\n",
    "  for idx in range(k) :\n",
    "    PROMPT+= f\"{retrieved_documents['text'][idx]}\\n\"\n",
    "  return PROMPT\n",
    "\n",
    "def generate(formatted_prompt):\n",
    "  formatted_prompt = formatted_prompt[:2000] # to avoid GPU OOM\n",
    "  messages = [{\"role\":\"system\",\"content\":SYS_PROMPT1},\n",
    "              {\"role\":\"system\",\"content\":SYS_PROMPT2},\n",
    "              {\"role\":\"user\",\"content\":formatted_prompt}]\n",
    "  # tell the model to generate\n",
    "  input_ids = tokenizer.apply_chat_template(\n",
    "      messages,\n",
    "      add_generation_prompt=True,\n",
    "      return_tensors=\"pt\"\n",
    "  ).to(model.device)\n",
    "  outputs = model.generate(\n",
    "      input_ids,\n",
    "      max_new_tokens=1024,\n",
    "      eos_token_id=[\n",
    "          tokenizer.eos_token_id,\n",
    "          tokenizer.convert_tokens_to_ids(\"<|eot_id|>\")\n",
    "      ],\n",
    "      do_sample=True,\n",
    "      temperature=0.6,\n",
    "      top_p=0.9,\n",
    "  )\n",
    "  response = outputs[0][input_ids.shape[-1]:]\n",
    "  return tokenizer.decode(response, skip_special_tokens=True)\n",
    "\n",
    "def rag_chatbot(prompt:str,k:int=2):\n",
    "  scores , retrieved_documents = search(prompt, k)\n",
    "  formatted_prompt = format_prompt(prompt,retrieved_documents,k)\n",
    "  return generate(formatted_prompt)\n"
   ]
  },
  {
   "cell_type": "code",
   "execution_count": 17,
   "id": "7ea3d22e-e818-4b5f-9c35-a37fab42f8dd",
   "metadata": {},
   "outputs": [],
   "source": [
    "SYS_PROMPT1 = \"\"\"You are an assistant for answering questions.\n",
    "You are given the extracted parts of a long document and a question. Provide a conversational answer.\n",
    "If you don't know the answer, please make an inference based on the data given\"\"\"\n",
    "\n",
    "SYS_PROMPT2 = \"\"\"The data provide is the gilbert damping constant and material resistivity about materials. Usually, high resistivity would lead to low gilbert damping constant. Now Please Answer the question below:\n",
    "\"\"\""
   ]
  },
  {
   "cell_type": "code",
   "execution_count": 25,
   "id": "d530c645-c102-4cab-a91a-53fa0ed49fca",
   "metadata": {},
   "outputs": [
    {
     "name": "stderr",
     "output_type": "stream",
     "text": [
      "The attention mask and the pad token id were not set. As a consequence, you may observe unexpected behavior. Please pass your input's `attention_mask` to obtain reliable results.\n",
      "Setting `pad_token_id` to `eos_token_id`:None for open-end generation.\n"
     ]
    },
    {
     "data": {
      "text/plain": [
       "\"Based on the provided data, I'll attempt to predict five new magnetic materials with extremely low Gilbert damping constants. Please note that these predictions are inferences based on the given data and might not be accurate in reality.\\n\\n1. **Material:** Yttrium-Indium-Iron (YInFe)\\n**Formula:** Y0.8In0.2Fe\\n**Gilbert Damping Constant:** 0.0008 (predicted to be lower than Insulating ferromagnets due to high resistivity)\\nRationale: Yttrium and Indium have high resistivity, which is often associated with low Gilbert damping. The addition of Iron will provide ferromagnetic properties.\\n\\n2. **Material:** Lanthanum-Copper-Iron (LaCuFe)\\n**Formula:** La0.7Cu0.3Fe\\n**Gilbert Damping Constant:** 0.0005 (predicted to be lower than Fe0.5Co0.5 due to high resistivity and low damping)\\nRationale: Lanthanum has a high resistivity, and Copper is known for its high resistivity as well. The addition of Iron will provide ferromagnetic properties.\\n\\n3. **Material:** Gadolinium-Manganese-Iron (GdMnFe)\\n**Formula:** Gd0.6Mn0.2Fe\\n**Gilbert Damping Constant:** 0.0003 (predicted to be lower than Co35Fe65/Ni50Mn50 due to high resistivity and low damping)\\nRationale: Gadolinium has a high resistivity, and Manganese is known for its high resistivity as well. The addition of Iron will provide ferromagnetic properties.\\n\\n4. **Material:** Erbium-Tantalum-Iron (ErTaFe)\\n**Formula:** Er0.8Ta0.2Fe\\n**Gilbert Damping Constant:** 0.0002 (predicted to be lower than Tm3Fe5O12 due to high resistivity and low damping)\\nRationale: Erbium has a high resistivity, and Tantalum is known for its high resistivity as well. The addition of Iron will provide ferromagnetic properties.\\n\\n5. **Material:** Neodymium-Zirconium-Iron (NdZrFe)\\n**Formula:** Nd0.7Zr0.3Fe\\n**Gilbert Damping Constant:** 0.0001 (predicted to be lower than Fe66.5Cu1Nb3Si13.5B6Al7 due to high resistivity and low damping)\\nRationale: Neodymium has a high resistivity, and Zirconium is known for its high resistivity as well. The addition of Iron will provide ferromagnetic properties.\\n\\nPlease note that these predictions are based on the provided data and might not reflect the actual properties of these materials. Experimental verification is necessary to confirm the accuracy of these predictions.\""
      ]
     },
     "execution_count": 25,
     "metadata": {},
     "output_type": "execute_result"
    }
   ],
   "source": [
    "rag_chatbot(\"Please predict at least 5 new magnetic materials (completely new) with extremely low gilbert damping. Make sure provide its material formula\", k = 10)"
   ]
  },
  {
   "cell_type": "code",
   "execution_count": null,
   "id": "c07642dc-787c-40fa-8a36-8e99e71c5e3a",
   "metadata": {},
   "outputs": [],
   "source": []
  }
 ],
 "metadata": {
  "kernelspec": {
   "display_name": "Python 3 (ipykernel)",
   "language": "python",
   "name": "python3"
  },
  "language_info": {
   "codemirror_mode": {
    "name": "ipython",
    "version": 3
   },
   "file_extension": ".py",
   "mimetype": "text/x-python",
   "name": "python",
   "nbconvert_exporter": "python",
   "pygments_lexer": "ipython3",
   "version": "3.10.13"
  }
 },
 "nbformat": 4,
 "nbformat_minor": 5
}
