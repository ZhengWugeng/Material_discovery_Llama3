{
 "cells": [
  {
   "cell_type": "code",
   "execution_count": 1,
   "id": "38f96ecd-cd15-4027-beb4-963b8caa5042",
   "metadata": {},
   "outputs": [],
   "source": [
    "from datasets import load_dataset, Dataset, concatenate_datasets\n",
    "from transformers import pipeline\n",
    "import numpy as np\n",
    "import pandas as pd\n",
    "import torch"
   ]
  },
  {
   "cell_type": "code",
   "execution_count": 2,
   "id": "1866f6f9-ae6d-4984-a302-ad9838181084",
   "metadata": {},
   "outputs": [
    {
     "name": "stderr",
     "output_type": "stream",
     "text": [
      "/opt/conda/lib/python3.10/site-packages/huggingface_hub/file_download.py:1132: FutureWarning: `resume_download` is deprecated and will be removed in version 1.0.0. Downloads always resume when possible. If you want to force a new download, use `force_download=True`.\n",
      "  warnings.warn(\n"
     ]
    },
    {
     "data": {
      "application/vnd.jupyter.widget-view+json": {
       "model_id": "19ec62ffcc3d4c59805ef7dd96916946",
       "version_major": 2,
       "version_minor": 0
      },
      "text/plain": [
       "Loading checkpoint shards:   0%|          | 0/4 [00:00<?, ?it/s]"
      ]
     },
     "metadata": {},
     "output_type": "display_data"
    },
    {
     "name": "stderr",
     "output_type": "stream",
     "text": [
      "Special tokens have been added in the vocabulary, make sure the associated word embeddings are fine-tuned or trained.\n"
     ]
    }
   ],
   "source": [
    "model_id = \"meta-llama/Meta-Llama-3-8B-Instruct\"\n",
    "\n",
    "pipe = pipeline(\n",
    "    \"text-generation\",\n",
    "    model=model_id,\n",
    "    model_kwargs={\"torch_dtype\": torch.bfloat16},\n",
    "    device=\"cuda\",\n",
    ")\n"
   ]
  },
  {
   "cell_type": "code",
   "execution_count": 3,
   "id": "98e70dfa-8457-4ad9-bda2-24a2af9d760b",
   "metadata": {},
   "outputs": [],
   "source": [
    "# model_name = \"meta-llama/Meta-Llama-3-8B\"\n",
    "# model = AutoModelForCausalLM.from_pretrained(model_name,\n",
    "#                                              torch_dtype=torch.bfloat16,\n",
    "#                                              device_map=\"auto\"\n",
    "#                                             )\n",
    "# tokenizer = AutoTokenizer.from_pretrained('ZWG817/Llama3_Chat_Materials')\n",
    "# model.resize_token_embeddings(len(tokenizer))\n",
    "\n",
    "# model.load_adapter('ZWG817/Llama3_Chat_Materials')"
   ]
  },
  {
   "cell_type": "code",
   "execution_count": 4,
   "id": "fef5cacf-bf1e-4612-bfb9-f3304d92be9d",
   "metadata": {},
   "outputs": [],
   "source": [
    "data = load_dataset(\"ZWG817/Materials_Gilbert_Damping\")\n",
    "data_train = data[\"train\"]"
   ]
  },
  {
   "cell_type": "code",
   "execution_count": 5,
   "id": "da87034b-a301-4aee-8e13-dcd9b42c79e2",
   "metadata": {},
   "outputs": [
    {
     "name": "stderr",
     "output_type": "stream",
     "text": [
      "Setting `pad_token_id` to `eos_token_id`:128009 for open-end generation.\n"
     ]
    },
    {
     "name": "stdout",
     "output_type": "stream",
     "text": [
      "The Gilbert damping constant is mentioned in the text as α = 0.0002, which represents the damping of the spin-waves mainly into the phonon system.\n",
      "\n",
      "The material mentioned in the text is Yttrium Iron Garnet (YIG), with the molecular formula Y3Fe5O12.\n"
     ]
    }
   ],
   "source": [
    "messages = [\n",
    "    {\"role\": \"system\", \"content\": \"You are a helpful assistant, Read the following text. Does it give the Gilbert damping constant of a certain material? If so, list the corresponding material and its Gilbert damping canstant. Make your answer include the material's molecular formula, and make your answer as short as possible. and them, please output the original sentence as well\"},\n",
    "    {\"role\": \"user\", \"content\": data_train[4]['content'][:20000]},\n",
    "]\n",
    "\n",
    "terminators = [\n",
    "    pipe.tokenizer.eos_token_id,\n",
    "    pipe.tokenizer.convert_tokens_to_ids(\"<|eot_id|>\")\n",
    "]\n",
    "\n",
    "outputs = pipe(\n",
    "    messages,\n",
    "    max_new_tokens=2048,\n",
    "    eos_token_id=terminators,\n",
    "    do_sample=True,\n",
    "    temperature=0.6,\n",
    "    top_p=0.9,\n",
    ")\n",
    "assistant_response = outputs[-1][\"generated_text\"][-1][\"content\"]\n",
    "print(assistant_response)"
   ]
  },
  {
   "cell_type": "code",
   "execution_count": 12,
   "id": "90df1442-3308-4b6c-845e-5e590faae46e",
   "metadata": {},
   "outputs": [
    {
     "name": "stderr",
     "output_type": "stream",
     "text": [
      "/opt/conda/lib/python3.10/site-packages/transformers/pipelines/base.py:1157: UserWarning: You seem to be using the pipelines sequentially on GPU. In order to maximize efficiency please use a dataset\n",
      "  warnings.warn(\n",
      "Setting `pad_token_id` to `eos_token_id`:128009 for open-end generation.\n"
     ]
    },
    {
     "name": "stdout",
     "output_type": "stream",
     "text": [
      "0\n"
     ]
    },
    {
     "name": "stderr",
     "output_type": "stream",
     "text": [
      "Setting `pad_token_id` to `eos_token_id`:128009 for open-end generation.\n"
     ]
    },
    {
     "name": "stdout",
     "output_type": "stream",
     "text": [
      "No Mention\n",
      "1\n"
     ]
    },
    {
     "name": "stderr",
     "output_type": "stream",
     "text": [
      "Setting `pad_token_id` to `eos_token_id`:128009 for open-end generation.\n"
     ]
    },
    {
     "name": "stdout",
     "output_type": "stream",
     "text": [
      "No Mention\n",
      "2\n"
     ]
    },
    {
     "name": "stderr",
     "output_type": "stream",
     "text": [
      "Setting `pad_token_id` to `eos_token_id`:128009 for open-end generation.\n"
     ]
    },
    {
     "name": "stdout",
     "output_type": "stream",
     "text": [
      "Chemical Formula: Cu2OSeO3\n",
      "Damping Constant: (9.9 64.1)/C210–5\n",
      "Original Sentences: We report broadband microwave spectroscopy performed on the insulating chiral ferrimagnet Cu2OSeO3. For the damping of magnetization dynamics, we find a remarkably small Gilbert damping parameter of about 1 /C210/C04 at 5 K.\n",
      "3\n"
     ]
    },
    {
     "name": "stderr",
     "output_type": "stream",
     "text": [
      "Setting `pad_token_id` to `eos_token_id`:128009 for open-end generation.\n"
     ]
    },
    {
     "name": "stdout",
     "output_type": "stream",
     "text": [
      "No Mention\n",
      "4\n"
     ]
    },
    {
     "name": "stderr",
     "output_type": "stream",
     "text": [
      "/opt/conda/lib/python3.10/site-packages/transformers/pipelines/base.py:1157: UserWarning: You seem to be using the pipelines sequentially on GPU. In order to maximize efficiency please use a dataset\n",
      "  warnings.warn(\n",
      "Setting `pad_token_id` to `eos_token_id`:128009 for open-end generation.\n"
     ]
    },
    {
     "name": "stdout",
     "output_type": "stream",
     "text": [
      "Chemical Formula: Yttrium Iron Garnet (YIG)\n",
      "\n",
      "Damping Constant: α = 0.0002\n",
      "\n",
      "Original Sentences: \n",
      "II. LAYOUT AND WORKING PRINCIPLE \n",
      "To demonstrate the magnonic adder, we perform micro-magnetic simulations using MuMax3.21We chose dimensions that are compatible with the time scales and feature sizes accessible in state-of-the-art magnonic experiments. For our simulations, we assume the material parameters of Yttrium Iron Garnet (YIG),22,23a widely used material in magnonics:6,24saturation magnetization Ms¼140 kA m/C01, exchange constant Aex¼3:5p J m/C01, and Gilbert damping parameter α¼0.0002, which represents the damping of the spin-waves mainly into the phonon system.\n",
      "5\n"
     ]
    },
    {
     "name": "stderr",
     "output_type": "stream",
     "text": [
      "Setting `pad_token_id` to `eos_token_id`:128009 for open-end generation.\n"
     ]
    },
    {
     "name": "stdout",
     "output_type": "stream",
     "text": [
      "No Mention\n",
      "6\n"
     ]
    },
    {
     "name": "stderr",
     "output_type": "stream",
     "text": [
      "Setting `pad_token_id` to `eos_token_id`:128009 for open-end generation.\n"
     ]
    },
    {
     "name": "stdout",
     "output_type": "stream",
     "text": [
      "The Gilbert damping constant of the material is mentioned in the text. The material is Pt/Co/Pt films.\n",
      "\n",
      "Chemical Formula: Pt/Co/Pt\n",
      "\n",
      "Damping Constant: The Gilbert damping constant values are listed in Fig. 4 of the text, which shows the inverse thickness 1/dCo dependence of the Gilbert damping constant (α) and the relaxation frequency G for Pt/Co/Pt films.\n",
      "\n",
      "Original Sentences: The /H9251values increase significantly with decreasing dCo and are not proportional to 1/dCo. The /H9251values obtained from FMR are also shown in this figure with open circles. The /H9251values in our films are of the same order of magnitude as reported values,6,7and the nonlinearity of /H9251against 1/dCo is similar to that observed in perpendicularly magnetized CoFeB films despite a much different magnetic material.12\n",
      "7\n"
     ]
    },
    {
     "name": "stderr",
     "output_type": "stream",
     "text": [
      "Setting `pad_token_id` to `eos_token_id`:128009 for open-end generation.\n"
     ]
    },
    {
     "name": "stdout",
     "output_type": "stream",
     "text": [
      "No Mention\n",
      "8\n"
     ]
    },
    {
     "name": "stderr",
     "output_type": "stream",
     "text": [
      "Setting `pad_token_id` to `eos_token_id`:128009 for open-end generation.\n"
     ]
    },
    {
     "name": "stdout",
     "output_type": "stream",
     "text": [
      "No Mention\n",
      "9\n"
     ]
    },
    {
     "name": "stderr",
     "output_type": "stream",
     "text": [
      "/opt/conda/lib/python3.10/site-packages/transformers/pipelines/base.py:1157: UserWarning: You seem to be using the pipelines sequentially on GPU. In order to maximize efficiency please use a dataset\n",
      "  warnings.warn(\n",
      "Setting `pad_token_id` to `eos_token_id`:128009 for open-end generation.\n"
     ]
    },
    {
     "name": "stdout",
     "output_type": "stream",
     "text": [
      "Chemical Formula: CoFeB, CoFe\n",
      "\n",
      "Damping Constant: Not mentioned\n",
      "\n",
      "Original Sentences: The Gilbert damping constant is not explicitly mentioned in the paper. However, the authors do mention the exchange constant Aex, which is related to the Gilbert damping constant, but it is not the same thing.\n",
      "10\n"
     ]
    },
    {
     "name": "stderr",
     "output_type": "stream",
     "text": [
      "Setting `pad_token_id` to `eos_token_id`:128009 for open-end generation.\n"
     ]
    },
    {
     "name": "stdout",
     "output_type": "stream",
     "text": [
      "No Mention\n",
      "11\n"
     ]
    },
    {
     "name": "stderr",
     "output_type": "stream",
     "text": [
      "Setting `pad_token_id` to `eos_token_id`:128009 for open-end generation.\n"
     ]
    },
    {
     "name": "stdout",
     "output_type": "stream",
     "text": [
      "No Mention\n",
      "12\n"
     ]
    },
    {
     "name": "stderr",
     "output_type": "stream",
     "text": [
      "Setting `pad_token_id` to `eos_token_id`:128009 for open-end generation.\n"
     ]
    },
    {
     "name": "stdout",
     "output_type": "stream",
     "text": [
      "No Mention. The text does not mention the Gilbert damping constant of a specific material.\n",
      "13\n"
     ]
    },
    {
     "name": "stderr",
     "output_type": "stream",
     "text": [
      "Setting `pad_token_id` to `eos_token_id`:128009 for open-end generation.\n"
     ]
    },
    {
     "name": "stdout",
     "output_type": "stream",
     "text": [
      "No Mention\n",
      "14\n"
     ]
    },
    {
     "name": "stderr",
     "output_type": "stream",
     "text": [
      "/opt/conda/lib/python3.10/site-packages/transformers/pipelines/base.py:1157: UserWarning: You seem to be using the pipelines sequentially on GPU. In order to maximize efficiency please use a dataset\n",
      "  warnings.warn(\n",
      "Setting `pad_token_id` to `eos_token_id`:128009 for open-end generation.\n"
     ]
    },
    {
     "name": "stdout",
     "output_type": "stream",
     "text": [
      "No Mention\n",
      "15\n"
     ]
    },
    {
     "name": "stderr",
     "output_type": "stream",
     "text": [
      "Setting `pad_token_id` to `eos_token_id`:128009 for open-end generation.\n"
     ]
    },
    {
     "name": "stdout",
     "output_type": "stream",
     "text": [
      "Chemical Formula: Co2FeAl\n",
      "\n",
      "Damping Constant: Very low\n",
      "\n",
      "Original Sentences: At present Co2FeAl (CFA) is emerging as the most promising full Heusler alloy. It has a very low Gilbert damping constant, high Curie temperature (~1000K) and magnetic tunnel junctions (MTJs) fabricated using CFA have exhibited giant tunnel magnetoresistance (G-TMR) ratio (360%) at room temperature.\n",
      "16\n"
     ]
    },
    {
     "name": "stderr",
     "output_type": "stream",
     "text": [
      "Setting `pad_token_id` to `eos_token_id`:128009 for open-end generation.\n"
     ]
    },
    {
     "name": "stdout",
     "output_type": "stream",
     "text": [
      "No Mention\n",
      "17\n"
     ]
    },
    {
     "name": "stderr",
     "output_type": "stream",
     "text": [
      "Setting `pad_token_id` to `eos_token_id`:128009 for open-end generation.\n"
     ]
    },
    {
     "name": "stdout",
     "output_type": "stream",
     "text": [
      "No Mention\n",
      "18\n"
     ]
    },
    {
     "name": "stderr",
     "output_type": "stream",
     "text": [
      "Setting `pad_token_id` to `eos_token_id`:128009 for open-end generation.\n"
     ]
    },
    {
     "name": "stdout",
     "output_type": "stream",
     "text": [
      "No Mention\n",
      "19\n"
     ]
    },
    {
     "name": "stderr",
     "output_type": "stream",
     "text": [
      "/opt/conda/lib/python3.10/site-packages/transformers/pipelines/base.py:1157: UserWarning: You seem to be using the pipelines sequentially on GPU. In order to maximize efficiency please use a dataset\n",
      "  warnings.warn(\n",
      "Setting `pad_token_id` to `eos_token_id`:128009 for open-end generation.\n"
     ]
    },
    {
     "name": "stdout",
     "output_type": "stream",
     "text": [
      "No Mention\n",
      "20\n",
      "Chemical Formula: Co1.5Fe1.5Ge\n",
      "\n",
      "Damping Constant: 0.007 60.001\n",
      "\n",
      "Original Sentences: The evolution of the linewidth with the resonance frequency indicates slight contributions of the inhomogeneous broadening, whose influence is gradually suppressed for frequencies up to 17 GHz, above which the subsequent linewidth evolution is consistent with a Gilbert damping aof 0.007 60.001.\n"
     ]
    }
   ],
   "source": [
    "df = pd.DataFrame()\n",
    "df_tmp = pd.DataFrame()\n",
    "df['Damping Constant'] = []\n",
    "results = []\n",
    "\n",
    "for i,j in enumerate(data_train):\n",
    "    print(i)\n",
    "    messages = [\n",
    "        {\"role\": \"system\", \"content\": \"You are a helpful assistant, Read the following text. Does it give the Gilbert damping constant of a certain material? If so, list the corresponding material and its Gilbert damping canstant. Make your answer include the material's molecular formula, and make your answer as short as possible. Please Answer me with format as follows: \\nChemical Formula: \\nDamping Constant: \\nOriginal Sentences: \\nIf the paper does not mention Gilbert Constant, Please just output: No Mention\"},\n",
    "        {\"role\": \"user\", \"content\": data_train[i]['content'][:20000]},\n",
    "    ]\n",
    "    \n",
    "    terminators = [\n",
    "        pipe.tokenizer.eos_token_id,\n",
    "        pipe.tokenizer.convert_tokens_to_ids(\"<|eot_id|>\")\n",
    "    ]\n",
    "    try:\n",
    "        outputs = pipe(\n",
    "            messages,\n",
    "            max_new_tokens=2048,\n",
    "            eos_token_id=terminators,\n",
    "            do_sample=True,\n",
    "            temperature=0.6,\n",
    "            top_p=0.9,\n",
    "        )\n",
    "\n",
    "        assistant_response = outputs[-1][\"generated_text\"][-1][\"content\"]\n",
    "        print(assistant_response)\n",
    "        results.append(assistant_response)\n",
    "        \n",
    "    except:\n",
    "        pass\n",
    "\n",
    "    if len(results) % 1000 == 0:\n",
    "        df_tmp['Damping Constant'] = results\n",
    "        df = pd.concat([df,df_tmp])\n",
    "        results = []\n",
    "        df_tmp = pd.DataFrame()\n",
    "        df.to_csv('Gilbert Damping Constant.csv',index = False)\n",
    "\n",
    "    df_tmp['Damping Constant'] = results\n",
    "    df = pd.concat([df,df_tmp])\n",
    "    df.to_csv('Gilbert Damping Constant.csv',index = False)\n",
    "    \n",
    "    # if i >= 20:\n",
    "    #     break\n",
    "    \n",
    "\n",
    "    \n",
    "    "
   ]
  },
  {
   "cell_type": "code",
   "execution_count": 11,
   "id": "f766c3c2-6502-4278-aff3-ad566f1854d2",
   "metadata": {},
   "outputs": [
    {
     "data": {
      "text/html": [
       "<div>\n",
       "<style scoped>\n",
       "    .dataframe tbody tr th:only-of-type {\n",
       "        vertical-align: middle;\n",
       "    }\n",
       "\n",
       "    .dataframe tbody tr th {\n",
       "        vertical-align: top;\n",
       "    }\n",
       "\n",
       "    .dataframe thead th {\n",
       "        text-align: right;\n",
       "    }\n",
       "</style>\n",
       "<table border=\"1\" class=\"dataframe\">\n",
       "  <thead>\n",
       "    <tr style=\"text-align: right;\">\n",
       "      <th></th>\n",
       "      <th>Damping Constant</th>\n",
       "    </tr>\n",
       "  </thead>\n",
       "  <tbody>\n",
       "    <tr>\n",
       "      <th>0</th>\n",
       "      <td>The text does not explicitly provide the Gilbe...</td>\n",
       "    </tr>\n",
       "    <tr>\n",
       "      <th>1</th>\n",
       "      <td>The Gilbert damping constant is not mentioned ...</td>\n",
       "    </tr>\n",
       "    <tr>\n",
       "      <th>2</th>\n",
       "      <td>The Gilbert damping constant of Cu2OSeO3 is li...</td>\n",
       "    </tr>\n",
       "    <tr>\n",
       "      <th>3</th>\n",
       "      <td>The text does not explicitly give the Gilbert ...</td>\n",
       "    </tr>\n",
       "    <tr>\n",
       "      <th>4</th>\n",
       "      <td>The Gilbert damping constant is mentioned in t...</td>\n",
       "    </tr>\n",
       "    <tr>\n",
       "      <th>0</th>\n",
       "      <td>The Gilbert damping constant is not mentioned ...</td>\n",
       "    </tr>\n",
       "    <tr>\n",
       "      <th>1</th>\n",
       "      <td>The text does not explicitly provide the Gilbe...</td>\n",
       "    </tr>\n",
       "    <tr>\n",
       "      <th>2</th>\n",
       "      <td>The text does not provide the Gilbert damping ...</td>\n",
       "    </tr>\n",
       "    <tr>\n",
       "      <th>3</th>\n",
       "      <td>The text does not give the Gilbert damping con...</td>\n",
       "    </tr>\n",
       "    <tr>\n",
       "      <th>4</th>\n",
       "      <td>The text does not explicitly provide the Gilbe...</td>\n",
       "    </tr>\n",
       "    <tr>\n",
       "      <th>0</th>\n",
       "      <td>The text does not mention the Gilbert damping ...</td>\n",
       "    </tr>\n",
       "    <tr>\n",
       "      <th>1</th>\n",
       "      <td>The text does not provide the Gilbert damping ...</td>\n",
       "    </tr>\n",
       "    <tr>\n",
       "      <th>2</th>\n",
       "      <td>The text does not provide the Gilbert damping ...</td>\n",
       "    </tr>\n",
       "    <tr>\n",
       "      <th>3</th>\n",
       "      <td>The text does not explicitly provide the Gilbe...</td>\n",
       "    </tr>\n",
       "    <tr>\n",
       "      <th>4</th>\n",
       "      <td>The text does not directly provide the Gilbert...</td>\n",
       "    </tr>\n",
       "    <tr>\n",
       "      <th>0</th>\n",
       "      <td>The text does not provide the Gilbert damping ...</td>\n",
       "    </tr>\n",
       "    <tr>\n",
       "      <th>1</th>\n",
       "      <td>The text does not explicitly give the Gilbert ...</td>\n",
       "    </tr>\n",
       "    <tr>\n",
       "      <th>2</th>\n",
       "      <td>The text does not mention the Gilbert damping ...</td>\n",
       "    </tr>\n",
       "    <tr>\n",
       "      <th>3</th>\n",
       "      <td>The text does not provide the Gilbert damping ...</td>\n",
       "    </tr>\n",
       "    <tr>\n",
       "      <th>4</th>\n",
       "      <td>The text does not give the Gilbert damping con...</td>\n",
       "    </tr>\n",
       "  </tbody>\n",
       "</table>\n",
       "</div>"
      ],
      "text/plain": [
       "                                    Damping Constant\n",
       "0  The text does not explicitly provide the Gilbe...\n",
       "1  The Gilbert damping constant is not mentioned ...\n",
       "2  The Gilbert damping constant of Cu2OSeO3 is li...\n",
       "3  The text does not explicitly give the Gilbert ...\n",
       "4  The Gilbert damping constant is mentioned in t...\n",
       "0  The Gilbert damping constant is not mentioned ...\n",
       "1  The text does not explicitly provide the Gilbe...\n",
       "2  The text does not provide the Gilbert damping ...\n",
       "3  The text does not give the Gilbert damping con...\n",
       "4  The text does not explicitly provide the Gilbe...\n",
       "0  The text does not mention the Gilbert damping ...\n",
       "1  The text does not provide the Gilbert damping ...\n",
       "2  The text does not provide the Gilbert damping ...\n",
       "3  The text does not explicitly provide the Gilbe...\n",
       "4  The text does not directly provide the Gilbert...\n",
       "0  The text does not provide the Gilbert damping ...\n",
       "1  The text does not explicitly give the Gilbert ...\n",
       "2  The text does not mention the Gilbert damping ...\n",
       "3  The text does not provide the Gilbert damping ...\n",
       "4  The text does not give the Gilbert damping con..."
      ]
     },
     "execution_count": 11,
     "metadata": {},
     "output_type": "execute_result"
    }
   ],
   "source": [
    "df"
   ]
  },
  {
   "cell_type": "code",
   "execution_count": null,
   "id": "0ff45672-14d3-4dd5-a9c3-c99838bd66f2",
   "metadata": {},
   "outputs": [],
   "source": []
  }
 ],
 "metadata": {
  "kernelspec": {
   "display_name": "Python 3 (ipykernel)",
   "language": "python",
   "name": "python3"
  },
  "language_info": {
   "codemirror_mode": {
    "name": "ipython",
    "version": 3
   },
   "file_extension": ".py",
   "mimetype": "text/x-python",
   "name": "python",
   "nbconvert_exporter": "python",
   "pygments_lexer": "ipython3",
   "version": "3.10.11"
  }
 },
 "nbformat": 4,
 "nbformat_minor": 5
}
